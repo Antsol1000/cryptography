{
 "cells": [
  {
   "cell_type": "code",
   "id": "initial_id",
   "metadata": {
    "collapsed": true,
    "ExecuteTime": {
     "end_time": "2025-01-28T15:32:32.755340Z",
     "start_time": "2025-01-28T15:32:32.715791Z"
    }
   },
   "source": "import numpy as np",
   "outputs": [],
   "execution_count": 1
  },
  {
   "metadata": {
    "ExecuteTime": {
     "end_time": "2025-01-28T15:39:36.290299Z",
     "start_time": "2025-01-28T15:39:36.285983Z"
    }
   },
   "cell_type": "code",
   "source": [
    "def gram_schmidt(B):\n",
    "    (n, m) = B.shape\n",
    "    B_star = np.zeros((n, m))\n",
    "    M = np.eye(m)\n",
    "\n",
    "    for i in range(m):\n",
    "        b_star = B[:, i]\n",
    "        for j in range(i):\n",
    "            col_j = B_star[:, j]\n",
    "            _m = np.dot(B[:, i], col_j) / np.dot(col_j, col_j)\n",
    "            b_star = b_star - _m * col_j\n",
    "            M[j, i] = _m\n",
    "        B_star[:, i] = b_star\n",
    " \n",
    "    return B_star, M"
   ],
   "id": "2039d42b294237c7",
   "outputs": [],
   "execution_count": 3
  },
  {
   "metadata": {
    "ExecuteTime": {
     "end_time": "2025-01-28T15:39:47.020966Z",
     "start_time": "2025-01-28T15:39:47.017699Z"
    }
   },
   "cell_type": "code",
   "source": [
    "def lll(B, delta=0.75):\n",
    "    k = 1\n",
    "    B_star, M = gram_schmidt(B)\n",
    "    while k < B.shape[1]:\n",
    "        for j in range(k - 1, -1, -1):\n",
    "            if abs(M[j, k]) > 0.5:\n",
    "                B[:, k] -= round(M[j, k]) * B[:, j]\n",
    "                B_star, M = gram_schmidt(B)\n",
    "        if np.dot(B[:, k], B[:, k]) > (\n",
    "                (delta - M[k - 1, k] ** 2)\n",
    "                * np.dot(B[:, k - 1], B[:, k - 1])\n",
    "        ):\n",
    "            k += 1\n",
    "        else:\n",
    "            B[:, [k, k-1]] = B[:, [k-1, k]]\n",
    "            B_star, M = gram_schmidt(B)\n",
    "            k = max(k - 1, 1)\n",
    "    return B"
   ],
   "id": "9951d2ae5964a9b3",
   "outputs": [],
   "execution_count": 4
  },
  {
   "metadata": {},
   "cell_type": "markdown",
   "source": "## Example",
   "id": "3be7b15004bd543a"
  },
  {
   "metadata": {
    "ExecuteTime": {
     "end_time": "2025-01-28T15:40:08.515903Z",
     "start_time": "2025-01-28T15:40:08.511002Z"
    }
   },
   "cell_type": "code",
   "source": [
    "B = np.array(\n",
    "    [\n",
    "        [1, 1, 1],\n",
    "        [-1, 0, 2],\n",
    "        [3, 5, 6]\n",
    "    ], dtype=float).T\n",
    "B"
   ],
   "id": "7796ba41d8828176",
   "outputs": [
    {
     "data": {
      "text/plain": [
       "array([[ 1., -1.,  3.],\n",
       "       [ 1.,  0.,  5.],\n",
       "       [ 1.,  2.,  6.]])"
      ]
     },
     "execution_count": 5,
     "metadata": {},
     "output_type": "execute_result"
    }
   ],
   "execution_count": 5
  },
  {
   "metadata": {
    "ExecuteTime": {
     "end_time": "2025-01-28T15:40:19.180275Z",
     "start_time": "2025-01-28T15:40:19.175853Z"
    }
   },
   "cell_type": "code",
   "source": "lll(B)",
   "id": "3c776a98803c9378",
   "outputs": [
    {
     "data": {
      "text/plain": [
       "array([[ 0.,  1., -1.],\n",
       "       [ 1.,  0.,  0.],\n",
       "       [ 0.,  1.,  2.]])"
      ]
     },
     "execution_count": 6,
     "metadata": {},
     "output_type": "execute_result"
    }
   ],
   "execution_count": 6
  }
 ],
 "metadata": {
  "kernelspec": {
   "display_name": "Python 3",
   "language": "python",
   "name": "python3"
  },
  "language_info": {
   "codemirror_mode": {
    "name": "ipython",
    "version": 2
   },
   "file_extension": ".py",
   "mimetype": "text/x-python",
   "name": "python",
   "nbconvert_exporter": "python",
   "pygments_lexer": "ipython2",
   "version": "2.7.6"
  }
 },
 "nbformat": 4,
 "nbformat_minor": 5
}
