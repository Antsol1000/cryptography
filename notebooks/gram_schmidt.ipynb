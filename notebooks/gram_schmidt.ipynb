{
 "cells": [
  {
   "cell_type": "code",
   "id": "initial_id",
   "metadata": {
    "collapsed": true,
    "ExecuteTime": {
     "end_time": "2025-01-28T15:39:26.490792Z",
     "start_time": "2025-01-28T15:39:26.488174Z"
    }
   },
   "source": "import numpy as np",
   "outputs": [],
   "execution_count": 26
  },
  {
   "metadata": {
    "ExecuteTime": {
     "end_time": "2025-01-28T15:39:26.495533Z",
     "start_time": "2025-01-28T15:39:26.492388Z"
    }
   },
   "cell_type": "code",
   "source": [
    "def gram_schmidt(B):\n",
    "    (n, m) = B.shape\n",
    "    B_star = np.zeros((n, m))\n",
    "    M = np.eye(m)\n",
    "\n",
    "    for i in range(m):\n",
    "        b_star = B[:, i]\n",
    "        print(f\"Current column: {b_star}\")\n",
    "        for j in range(i):\n",
    "            col_j = B_star[:, j]\n",
    "            print(f\"Projecting onto: {col_j}\")\n",
    "            _m = np.dot(B[:, i], col_j) / np.dot(col_j, col_j)\n",
    "            print(f\"Projection coeff: {_m}\")\n",
    "            b_star = b_star - _m * col_j\n",
    "            print(f\"After projection: {b_star}\")\n",
    "            M[j, i] = _m\n",
    "        print(f\"Processed column: {b_star}\\n\")\n",
    "        B_star[:, i] = b_star\n",
    " \n",
    "    return B_star, M"
   ],
   "id": "f241d90300e6b4b0",
   "outputs": [],
   "execution_count": 27
  },
  {
   "metadata": {},
   "cell_type": "markdown",
   "source": "# Example",
   "id": "b602ec08bf101ab"
  },
  {
   "metadata": {
    "ExecuteTime": {
     "end_time": "2025-01-28T15:39:26.508747Z",
     "start_time": "2025-01-28T15:39:26.506009Z"
    }
   },
   "cell_type": "code",
   "source": [
    "B = np.array(\n",
    "    [\n",
    "        [1, 1, 1, 1],\n",
    "        [2, 0, 1, 1],\n",
    "        [5, 1, 1, 5]\n",
    "    ], dtype=float).T\n",
    "\n",
    "B"
   ],
   "id": "274aaad5dc24d6a8",
   "outputs": [
    {
     "data": {
      "text/plain": [
       "array([[1., 2., 5.],\n",
       "       [1., 0., 1.],\n",
       "       [1., 1., 1.],\n",
       "       [1., 1., 5.]])"
      ]
     },
     "execution_count": 28,
     "metadata": {},
     "output_type": "execute_result"
    }
   ],
   "execution_count": 28
  },
  {
   "metadata": {
    "ExecuteTime": {
     "end_time": "2025-01-28T15:39:26.519276Z",
     "start_time": "2025-01-28T15:39:26.516498Z"
    }
   },
   "cell_type": "code",
   "source": [
    "B_star, M = gram_schmidt(B)\n",
    "B_star"
   ],
   "id": "2bd28692792825c",
   "outputs": [
    {
     "name": "stdout",
     "output_type": "stream",
     "text": [
      "Current column: [1. 1. 1. 1.]\n",
      "Processed column: [1. 1. 1. 1.]\n",
      "\n",
      "Current column: [2. 0. 1. 1.]\n",
      "Projecting onto: [1. 1. 1. 1.]\n",
      "Projection coeff: 1.0\n",
      "After projection: [ 1. -1.  0.  0.]\n",
      "Processed column: [ 1. -1.  0.  0.]\n",
      "\n",
      "Current column: [5. 1. 1. 5.]\n",
      "Projecting onto: [1. 1. 1. 1.]\n",
      "Projection coeff: 3.0\n",
      "After projection: [ 2. -2. -2.  2.]\n",
      "Projecting onto: [ 1. -1.  0.  0.]\n",
      "Projection coeff: 2.0\n",
      "After projection: [ 0.  0. -2.  2.]\n",
      "Processed column: [ 0.  0. -2.  2.]\n",
      "\n"
     ]
    },
    {
     "data": {
      "text/plain": [
       "array([[ 1.,  1.,  0.],\n",
       "       [ 1., -1.,  0.],\n",
       "       [ 1.,  0., -2.],\n",
       "       [ 1.,  0.,  2.]])"
      ]
     },
     "execution_count": 29,
     "metadata": {},
     "output_type": "execute_result"
    }
   ],
   "execution_count": 29
  }
 ],
 "metadata": {
  "kernelspec": {
   "display_name": "Python 3",
   "language": "python",
   "name": "python3"
  },
  "language_info": {
   "codemirror_mode": {
    "name": "ipython",
    "version": 2
   },
   "file_extension": ".py",
   "mimetype": "text/x-python",
   "name": "python",
   "nbconvert_exporter": "python",
   "pygments_lexer": "ipython2",
   "version": "2.7.6"
  }
 },
 "nbformat": 4,
 "nbformat_minor": 5
}
