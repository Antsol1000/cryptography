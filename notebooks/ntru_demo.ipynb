{
 "cells": [
  {
   "metadata": {
    "ExecuteTime": {
     "end_time": "2025-01-28T16:02:18.524698Z",
     "start_time": "2025-01-28T16:02:18.522511Z"
    }
   },
   "cell_type": "code",
   "source": [
    "from cryptography.ntru import (\n",
    "    NtruDecryptor,\n",
    "    NtruEncryptor,\n",
    "    NtruKeyGenerator,\n",
    "    NtruParams\n",
    ")\n",
    "from cryptography.polynomial import RandomPolynomialGenerator"
   ],
   "id": "d3f18797881c015",
   "outputs": [],
   "execution_count": 41
  },
  {
   "metadata": {},
   "cell_type": "markdown",
   "source": "# NTRU - A Lattice-Based Cryptosystem",
   "id": "a01304d0e841b02"
  },
  {
   "metadata": {},
   "cell_type": "markdown",
   "source": "## Parameters",
   "id": "a8fb4448f79f2667"
  },
  {
   "metadata": {
    "ExecuteTime": {
     "end_time": "2025-01-28T16:02:18.527831Z",
     "start_time": "2025-01-28T16:02:18.525868Z"
    }
   },
   "cell_type": "code",
   "source": [
    "N, p, q, d_f, d_g, d_r = 4, 3, 16, 1, 1, 1\n",
    "params = NtruParams(N=N, p=p, q=q, d_f=d_f, d_g=d_g)"
   ],
   "id": "9cd5286aef86bbb8",
   "outputs": [],
   "execution_count": 42
  },
  {
   "metadata": {},
   "cell_type": "markdown",
   "source": "## Key Generation",
   "id": "94c55baae15edbc7"
  },
  {
   "metadata": {
    "ExecuteTime": {
     "end_time": "2025-01-28T16:02:18.531179Z",
     "start_time": "2025-01-28T16:02:18.528484Z"
    }
   },
   "cell_type": "code",
   "source": [
    "rpg = RandomPolynomialGenerator(N=N)\n",
    "ntru = NtruKeyGenerator(params, rpg, debug=True)"
   ],
   "id": "7a424ceb2d2bdca0",
   "outputs": [
    {
     "name": "stdout",
     "output_type": "stream",
     "text": [
      "N, p, q: (4, 3, 16)\n",
      "f: -1 + x + x^2\n",
      "g: -1x + x^4\n",
      "fp: 1 + x + -1x^2\n",
      "fq: 3 + -6x + -3x^2 + 7x^3\n",
      "h: 4 + 5x + -7x^2 + -2x^3\n"
     ]
    }
   ],
   "execution_count": 43
  },
  {
   "metadata": {
    "ExecuteTime": {
     "end_time": "2025-01-28T16:02:18.534772Z",
     "start_time": "2025-01-28T16:02:18.532470Z"
    }
   },
   "cell_type": "code",
   "source": [
    "pkey = ntru.public_key\n",
    "pkey"
   ],
   "id": "d55edbe796cf9506",
   "outputs": [
    {
     "data": {
      "text/plain": [
       "[4, 5, -7, -2]"
      ]
     },
     "execution_count": 44,
     "metadata": {},
     "output_type": "execute_result"
    }
   ],
   "execution_count": 44
  },
  {
   "metadata": {
    "ExecuteTime": {
     "end_time": "2025-01-28T16:02:18.537486Z",
     "start_time": "2025-01-28T16:02:18.535498Z"
    }
   },
   "cell_type": "code",
   "source": [
    "sec = ntru.private_key\n",
    "sec"
   ],
   "id": "32ce647a6542fbe8",
   "outputs": [
    {
     "data": {
      "text/plain": [
       "([-1, 1, 1], [0, -1, 0, 0, 1])"
      ]
     },
     "execution_count": 45,
     "metadata": {},
     "output_type": "execute_result"
    }
   ],
   "execution_count": 45
  },
  {
   "metadata": {},
   "cell_type": "markdown",
   "source": "## Encryption",
   "id": "c8afa6daf7e2628a"
  },
  {
   "metadata": {
    "ExecuteTime": {
     "end_time": "2025-01-28T16:02:18.540398Z",
     "start_time": "2025-01-28T16:02:18.538130Z"
    }
   },
   "cell_type": "code",
   "source": [
    "msg = [1, -1, -1]\n",
    "msg"
   ],
   "id": "a61161bf80ae7ca7",
   "outputs": [
    {
     "data": {
      "text/plain": [
       "[1, -1, -1]"
      ]
     },
     "execution_count": 46,
     "metadata": {},
     "output_type": "execute_result"
    }
   ],
   "execution_count": 46
  },
  {
   "metadata": {
    "ExecuteTime": {
     "end_time": "2025-01-28T16:02:18.543323Z",
     "start_time": "2025-01-28T16:02:18.540967Z"
    }
   },
   "cell_type": "code",
   "source": [
    "ntru_enc = NtruEncryptor(params, pkey, rpg, debug=True)\n",
    "encrypted = ntru_enc.encrypt(msg, d_r=d_r)\n",
    "encrypted"
   ],
   "id": "79097aee66af6442",
   "outputs": [
    {
     "name": "stdout",
     "output_type": "stream",
     "text": [
      "m: 1 + -1x + -1x^2\n",
      "r: -1 + x^2\n",
      "c: 6 + 8x + 10x^2 + 7x^3\n",
      "c: 6 + 8x + -6x^2 + 7x^3\n"
     ]
    },
    {
     "data": {
      "text/plain": [
       "[6, 8, -6, 7]"
      ]
     },
     "execution_count": 47,
     "metadata": {},
     "output_type": "execute_result"
    }
   ],
   "execution_count": 47
  },
  {
   "metadata": {},
   "cell_type": "markdown",
   "source": "## Decryption",
   "id": "88852326568619b4"
  },
  {
   "metadata": {
    "ExecuteTime": {
     "end_time": "2025-01-28T16:02:18.546487Z",
     "start_time": "2025-01-28T16:02:18.543982Z"
    }
   },
   "cell_type": "code",
   "source": [
    "ntru_dec = NtruDecryptor(params, sec, debug=True)\n",
    "decrypted = ntru_dec.decrypt(encrypted)\n",
    "decrypted"
   ],
   "id": "6f2c490e9a9fdab2",
   "outputs": [
    {
     "name": "stdout",
     "output_type": "stream",
     "text": [
      "c: 6 + 8x + -6x^2 + 7x^3\n",
      "a: 11 + 5x + 4x^2 + 11x^3\n",
      "a: -5 + 5x + 4x^2 + -5x^3\n",
      "m: 1 + 2x + 2x^2\n",
      "m: 1 + -1x + -1x^2\n"
     ]
    },
    {
     "data": {
      "text/plain": [
       "[1, -1, -1]"
      ]
     },
     "execution_count": 48,
     "metadata": {},
     "output_type": "execute_result"
    }
   ],
   "execution_count": 48
  }
 ],
 "metadata": {
  "kernelspec": {
   "display_name": "Python 3",
   "language": "python",
   "name": "python3"
  },
  "language_info": {
   "codemirror_mode": {
    "name": "ipython",
    "version": 2
   },
   "file_extension": ".py",
   "mimetype": "text/x-python",
   "name": "python",
   "nbconvert_exporter": "python",
   "pygments_lexer": "ipython2",
   "version": "2.7.6"
  }
 },
 "nbformat": 4,
 "nbformat_minor": 5
}
